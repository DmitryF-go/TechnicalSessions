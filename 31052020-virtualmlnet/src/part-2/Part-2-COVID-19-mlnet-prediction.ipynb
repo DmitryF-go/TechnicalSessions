{
 "cells": [
  {
   "cell_type": "markdown",
   "metadata": {},
   "source": [
    "# Part - 2: COVID-19 Time Series Analysis and Prediction using ML.Net framework"
   ]
  },
  {
   "cell_type": "markdown",
   "metadata": {},
   "source": [
    "## COVID-19\n",
    "- As per [Wiki](https://en.wikipedia.org/wiki/Coronavirus_disease_2019) **Coronavirus disease 2019** (**COVID-19**) is an infectious disease caused by severe acute respiratory syndrome coronavirus 2 (SARS-CoV-2). The disease was first identified in 2019 in Wuhan, the capital of China's Hubei province, and has since spread globally, resulting in the ongoing 2019–20 coronavirus pandemic.\n",
    "- The virus had caused a pandemic across the globe and spreading/affecting most of the nations. \n",
    "- The purpose of notebook is to visualize the trends of virus spread in various countries and explore features present in ML.Net such as DataFrame."
   ]
  },
  {
   "cell_type": "markdown",
   "metadata": {},
   "source": [
    "### Acknowledgement\n",
    "- [Johns Hopkins CSSE](https://github.com/CSSEGISandData/COVID-19/raw/master/csse_covid_19_data) for dataset\n",
    "- [COVID-19 data visualization](https://www.kaggle.com/akshaysb/covid-19-data-visualization) by Akshay Sb"
   ]
  },
  {
   "cell_type": "markdown",
   "metadata": {},
   "source": [
    "### Dataset\n",
    "\n",
    "- [2019 Novel Coronavirus COVID-19 (2019-nCoV) Data Repository by Johns Hopkins CSSE - Time Series](https://github.com/CSSEGISandData/COVID-19/tree/master/csse_covid_19_data/csse_covid_19_time_series)."
   ]
  },
  {
   "cell_type": "markdown",
   "metadata": {},
   "source": [
    "### Introduction \n",
    "\n",
    "This is **Part-2** of our analysis on the COVID-19 dataset provided by Johns Hopkins CSSE. In [**Part-1**](https://github.com/praveenraghuvanshi1512/TechnicalSessions/tree/31052020-virtualmlnet/31052020-virtualmlnet/src/part-1), I did data analysis on the dataset and created some tables and plots for getting insights from it. In Part-2, I'll focus on applying machine learning for making a prediction using time-series API's provided by ML.Net framework. I'll be building a model from scratch on the number of confirmed cases and predicting for the next 7 days. Later on, I'll plot these numbers for better visualization.\n",
    "\n",
    "[**ML.Net**](https://dotnet.microsoft.com/apps/machinelearning-ai/ml-dotnet) is a cross-platform framework from Microsoft for developing Machine learning models in the .Net ecosystem. It allows .Net developers to solve business problems using machine learning algorithms leveraging their preferred language such as C#/F#. It's highly scalable and used within Microsoft in many of its products such as Bing, Powerpoint, etc.\n",
    "\n",
    "**Disclaimer**: This is an exercise to explore different features present in ML.Net. The actual and predicted numbers might vary due to several factors such as size and features in a dataset."
   ]
  },
  {
   "cell_type": "markdown",
   "metadata": {},
   "source": [
    "### Summary\n",
    "\n",
    "Below is the summary of steps we'll be performing\n",
    "\n",
    "1. Define application level items\n",
    "    - Nuget packages\n",
    "    - Namespaces\n",
    "    - Constants\n",
    "     \n",
    "2. Utility Functions\n",
    "    - Formatters    \n",
    "\n",
    "3. Dataset and Transformations\n",
    "    - Actual from [Johns Hopkins CSSE](https://github.com/CSSEGISandData/COVID-19/blob/master/csse_covid_19_data/csse_covid_19_time_series)\n",
    "    - Transformed [time_series_covid19_confirmed_global_transposed.csv](time_series_covid19_confirmed_global_transposed.csv)\n",
    "    \n",
    "4. Data Classes\n",
    "    - ConfirmedData : Provides a map between columns in a dataset\n",
    "    - ConfirmedForecast : Holds predicted values\n",
    "\n",
    "5. Data Analysis\n",
    "    - Visualize Data using DataFrame API\n",
    "    - Display Top 10 Rows - dataframe.Head(10)\n",
    "    - Display Last 10 Rows - dataframe.Tail(10)\n",
    "    - Display Dataset Statistics - dataframe.Description()\n",
    "    - Plot of TotalConfimed cases vs Date\n",
    "\n",
    "6. Load Data - MLContext\n",
    "7. ML Pipeline\n",
    "8. Train Model\n",
    "9. Prediction/Forecasting\n",
    "10. Prediction Visualization\n",
    "11. Prediction Analysis\n",
    "12. Conclusion\n",
    "\n",
    "**Note** : Graphs/Plots may not render in GitHub due to secutiry reasons, however if you run this notebook locally/binder they will render."
   ]
  },
  {
   "cell_type": "code",
   "execution_count": 1,
   "metadata": {},
   "outputs": [
    {
     "data": {
      "text/html": [
       "\r\n",
       "<div>\r\n",
       "    <div id='dotnet-interactive-this-cell-893ad01aa27c41e4a41c2dbfac92cd91' style='display: none'>\r\n",
       "        The below script needs to be able to find the current output cell; this is an easy method to get it.\r\n",
       "    </div>\r\n",
       "    <script type='text/javascript'>\r\n",
       "// ensure `requirejs` is available globally\r\n",
       "if (typeof requirejs !== typeof Function || typeof requirejs.config !== typeof Function) {\r\n",
       "    let requirejs_script = document.createElement('script');\r\n",
       "    requirejs_script.setAttribute('src', 'https://cdnjs.cloudflare.com/ajax/libs/require.js/2.3.6/require.min.js');\r\n",
       "    requirejs_script.setAttribute('type', 'text/javascript');\r\n",
       "    requirejs_script.onload = function () {\r\n",
       "        loadDotnetInteractiveApi();\r\n",
       "    };\r\n",
       "\r\n",
       "    document.getElementsByTagName('head')[0].appendChild(requirejs_script);\r\n",
       "}\r\n",
       "else {\r\n",
       "    loadDotnetInteractiveApi();\r\n",
       "}\r\n",
       "\r\n",
       "async function probeAddresses(probingAddresses) {\r\n",
       "    function timeout(ms, promise) {\r\n",
       "        return new Promise(function (resolve, reject) {\r\n",
       "            setTimeout(function () {\r\n",
       "                reject(new Error('timeout'))\r\n",
       "            }, ms)\r\n",
       "            promise.then(resolve, reject)\r\n",
       "        })\r\n",
       "    }\r\n",
       "\r\n",
       "    if (Array.isArray(probingAddresses)) {\r\n",
       "        for (let i = 0; i < probingAddresses.length; i++) {\r\n",
       "\r\n",
       "            let rootUrl = probingAddresses[i];\r\n",
       "\r\n",
       "            if (!rootUrl.endsWith('/')) {\r\n",
       "                rootUrl = `${rootUrl}/`;\r\n",
       "            }\r\n",
       "\r\n",
       "            try {\r\n",
       "                let response = await timeout(1000, fetch(`${rootUrl}discovery`, {\r\n",
       "                    method: 'POST',\r\n",
       "                    timeout: 1000,\r\n",
       "                    headers: {\r\n",
       "                        'Content-Type': 'text/plain'\r\n",
       "                    },\r\n",
       "                    body: probingAddresses[i]\r\n",
       "                }));\r\n",
       "\r\n",
       "                if (response.status == 200) {\r\n",
       "                    return rootUrl;\r\n",
       "                }\r\n",
       "            }\r\n",
       "            catch (e) { }\r\n",
       "        }\r\n",
       "    }\r\n",
       "}\r\n",
       "\r\n",
       "function loadDotnetInteractiveApi() {\r\n",
       "    probeAddresses([\"http://10.92.55.58:1000/\", \"http://169.254.46.139:1000/\", \"http://192.168.1.5:1000/\", \"http://172.17.186.113:1000/\", \"http://127.0.0.1:1000/\"])\r\n",
       "        .then((root) => {\r\n",
       "            // use probing to find host url and api resources\r\n",
       "            // load interactive helpers and language services\r\n",
       "            let dotnet_require = requirejs.config({\r\n",
       "                context: '8784.893ad01aa27c41e4a41c2dbfac92cd91',\r\n",
       "                paths: {\r\n",
       "                    'dotnet-interactive': `${root}resources`\r\n",
       "                }\r\n",
       "            });\r\n",
       "            if (!window.dotnet_require) {\r\n",
       "                window.dotnet_require = dotnet_require;\r\n",
       "            }\r\n",
       "        \r\n",
       "            dotnet_require([\r\n",
       "                    'dotnet-interactive/dotnet-interactive'\r\n",
       "                ],\r\n",
       "                function (dotnet) {\r\n",
       "                    dotnet.init(window);\r\n",
       "                },\r\n",
       "                function (error) {\r\n",
       "                    console.log(error);\r\n",
       "                }\r\n",
       "            );\r\n",
       "        })\r\n",
       "        .catch(error => {console.log(error);});\r\n",
       "    }\r\n",
       "    </script>\r\n",
       "</div>"
      ]
     },
     "metadata": {},
     "output_type": "display_data"
    },
    {
     "data": {
      "text/html": [
       "<table><tbody><tr><td><img src=\"https://raw.githubusercontent.com/dotnet/swag/master/netlogo/small-200x198/pngs/msft.net_small_purple.png\" width=\"125em\"></img></td><td style=\"line-height:.8em\"><p style=\"font-size:1.5em\"><b>.NET Interactive</b></p><p>&#169; 2020 Microsoft Corporation</p><p><b>Version: </b>1.0.126302+9e8f007038a86132f72a94889d805be2a14addf2</p><p><b>Build date: </b>2020-05-28T18:11:57.9669641Z</p><p><a href=\"https://github.com/dotnet/interactive\">https://github.com/dotnet/interactive</a></p></td></tr></tbody></table>"
      ]
     },
     "metadata": {},
     "output_type": "display_data"
    }
   ],
   "source": [
    "#!about"
   ]
  },
  {
   "cell_type": "markdown",
   "metadata": {},
   "source": [
    "### 1. Define Application wide Items"
   ]
  },
  {
   "cell_type": "markdown",
   "metadata": {},
   "source": [
    "#### Nuget Packages\n"
   ]
  },
  {
   "cell_type": "code",
   "execution_count": 3,
   "metadata": {
    "execution": {
     "iopub.execute_input": "2020-05-28T22:23:13.710Z",
     "iopub.status.busy": "2020-05-28T22:23:13.688Z",
     "iopub.status.idle": "2020-05-28T22:23:23.404Z"
    }
   },
   "outputs": [],
   "source": [
    "// ML.NET Nuget packages installation\n",
    "#r \"nuget:Microsoft.ML\"\n",
    "#r \"nuget:Microsoft.ML.TimeSeries\"\n",
    "#r \"nuget:Microsoft.Data.Analysis\"\n",
    "\n",
    "// Install XPlot package\n",
    "#r \"nuget:XPlot.Plotly\""
   ]
  },
  {
   "cell_type": "markdown",
   "metadata": {},
   "source": [
    "#### Namespaces"
   ]
  },
  {
   "cell_type": "code",
   "execution_count": 4,
   "metadata": {
    "execution": {
     "iopub.execute_input": "2020-05-28T22:23:27.823Z",
     "iopub.status.busy": "2020-05-28T22:23:27.805Z",
     "iopub.status.idle": "2020-05-28T22:23:27.845Z"
    }
   },
   "outputs": [],
   "source": [
    "using System;\n",
    "using System.Collections.Generic;\n",
    "using System.Linq;\n",
    "using Microsoft.ML;\n",
    "using Microsoft.ML.Data;\n",
    "using Microsoft.Data.Analysis;\n",
    "using Microsoft.ML.Transforms.TimeSeries;\n",
    "using Microsoft.AspNetCore.Html;\n",
    "using XPlot.Plotly;"
   ]
  },
  {
   "cell_type": "markdown",
   "metadata": {},
   "source": [
    "#### Constants"
   ]
  },
  {
   "cell_type": "code",
   "execution_count": 5,
   "metadata": {
    "execution": {
     "iopub.execute_input": "2020-05-28T22:23:33.567Z",
     "iopub.status.busy": "2020-05-28T22:23:33.552Z",
     "iopub.status.idle": "2020-05-28T22:23:33.589Z"
    }
   },
   "outputs": [],
   "source": [
    "const string CONFIRMED_DATASET_FILE = \"time_series_covid19_confirmed_global_transposed.csv\";\n",
    "\n",
    "// Forecast API\n",
    "const int WINDOW_SIZE = 5;\n",
    "const int SERIES_LENGTH = 10;\n",
    "const int TRAIN_SIZE = 100;\n",
    "const int HORIZON = 7;\n",
    "\n",
    "// Dataset\n",
    "const int DEFAULT_ROW_COUNT = 10;\n",
    "const string TOTAL_CONFIRMED_COLUMN = \"TotalConfirmed\";\n",
    "const string DATE_COLUMN = \"Date\";"
   ]
  },
  {
   "cell_type": "markdown",
   "metadata": {},
   "source": [
    "### 2. Utility Functions - TBR"
   ]
  },
  {
   "cell_type": "markdown",
   "metadata": {},
   "source": [
    "#### Formatters\n",
    "\n",
    "By default the output of DataFrame is not proper and in order to display it as a table, we need to have a custom formatter implemented as shown in next cell. "
   ]
  },
  {
   "cell_type": "code",
   "execution_count": 6,
   "metadata": {
    "execution": {
     "iopub.execute_input": "2020-05-28T22:23:35.628Z",
     "iopub.status.busy": "2020-05-28T22:23:35.612Z",
     "iopub.status.idle": "2020-05-28T22:23:36.344Z"
    }
   },
   "outputs": [],
   "source": [
    "Formatter<DataFrame>.Register((df, writer) =>\n",
    "{\n",
    "    var headers = new List<IHtmlContent>();\n",
    "    headers.Add(th(i(\"index\")));\n",
    "    headers.AddRange(df.Columns.Select(c => (IHtmlContent) th(c.Name)));\n",
    "    var rows = new List<List<IHtmlContent>>();\n",
    "    var take = DEFAULT_ROW_COUNT;\n",
    "    for (var i = 0; i < Math.Min(take, df.Rows.Count); i++)\n",
    "    {\n",
    "        var cells = new List<IHtmlContent>();\n",
    "        cells.Add(td(i));\n",
    "        foreach (var obj in df.Rows[i])\n",
    "        {\n",
    "            cells.Add(td(obj));\n",
    "        }\n",
    "        rows.Add(cells);\n",
    "    }\n",
    "\n",
    "    var t = table(\n",
    "        thead(\n",
    "            headers),\n",
    "        tbody(\n",
    "            rows.Select(\n",
    "                r => tr(r))));\n",
    "\n",
    "    writer.Write(t);\n",
    "}, \"text/html\");"
   ]
  },
  {
   "cell_type": "markdown",
   "metadata": {},
   "source": [
    "### 3. Dataset and Transformations"
   ]
  },
  {
   "cell_type": "markdown",
   "metadata": {},
   "source": [
    "#### Download Dataset\n",
    "- Actual Dataset: [Johns Hopkins CSSE](https://github.com/CSSEGISandData/COVID-19/blob/master/csse_covid_19_data/csse_covid_19_time_series)\n",
    "- Transformed Dataset: [time_series_covid19_confirmed_global_transposed.csv](time_series_covid19_confirmed_global_transposed.csv)\n",
    "\n",
    "\n",
    "I'll be using COVID-19 time series dataset from [Johns Hopkins CSSE](https://github.com/CSSEGISandData/COVID-19/blob/master/csse_covid_19_data/csse_covid_19_time_series) and will be performing predictions using **time_series_covid19_confirmed_global.csv** file.\n",
    "\n",
    "The data present in these files have name of the countries as Rows and dates as columns which makes it difficult to map to our classes while loading data from csv. Also, it contains data per country wise. In order to keep things simple I'll work with global count of COVID-19 cases and not specific country.\n",
    "\n",
    "I have done few transformations to the dataset as below and created transformed csv's\n",
    "- Sum cases from all the countries for a specific date\n",
    "- Just have two rows with Date and Total \n",
    "- Applied transformation to the csv for converting Rows into Columns and vice-versa. [Refer](https://support.office.com/en-us/article/transpose-rotate-data-from-rows-to-columns-or-vice-versa-3419f2e3-beab-4318-aae5-d0f862209744) for transformation.\n",
    "- Below transposed files have been saved in the current github directory. There is no change in dataset. The files have data till 05-27-2020\n",
    "    - [time_series_covid19_confirmed_global_transposed.csv](time_series_covid19_confirmed_global_transposed.csv) : Columns - **Date, TotalConfirmed**"
   ]
  },
  {
   "cell_type": "markdown",
   "metadata": {},
   "source": [
    "##### Before transformation\n",
    "\n",
    "<img src=\".\\assets\\time-series-before-transformation.png\" alt=\"Time Series data before transofmation\" style=\"zoom: 80%;\" />"
   ]
  },
  {
   "cell_type": "markdown",
   "metadata": {},
   "source": [
    "#### After transformation\n",
    "\n",
    "<img src=\".\\assets\\time-series-after-transformation.png\" alt=\"Time Series data after transofmation\" style=\"zoom: 80%;\" />"
   ]
  },
  {
   "cell_type": "markdown",
   "metadata": {},
   "source": [
    "### 4. Data Classes"
   ]
  },
  {
   "cell_type": "markdown",
   "metadata": {},
   "source": [
    "Now, we need to create few data structures to map to columns within our dataset."
   ]
  },
  {
   "cell_type": "markdown",
   "metadata": {},
   "source": [
    "#### Confirmed cases"
   ]
  },
  {
   "cell_type": "code",
   "execution_count": 7,
   "metadata": {
    "execution": {
     "iopub.execute_input": "2020-05-28T22:23:38.646Z",
     "iopub.status.busy": "2020-05-28T22:23:38.631Z",
     "iopub.status.idle": "2020-05-28T22:23:38.863Z"
    }
   },
   "outputs": [],
   "source": [
    "/// <summary>\n",
    "/// Represent data for confirmed cases with a mapping to columns in a dataset\n",
    "/// </summary>\n",
    "public class ConfirmedData\n",
    "{\n",
    "    /// <summary>\n",
    "    /// Date of confirmed case\n",
    "    /// </summary>\n",
    "    [LoadColumn(0)]\n",
    "    public DateTime Date;\n",
    "\n",
    "    /// <summary>\n",
    "    /// Total no of confirmed cases on a particular date\n",
    "    /// </summary>\n",
    "    [LoadColumn(1)]\n",
    "    public float TotalConfirmed;\n",
    "}"
   ]
  },
  {
   "cell_type": "code",
   "execution_count": 8,
   "metadata": {
    "execution": {
     "iopub.execute_input": "2020-05-28T22:23:38.947Z",
     "iopub.status.busy": "2020-05-28T22:23:38.931Z",
     "iopub.status.idle": "2020-05-28T22:23:39.013Z"
    }
   },
   "outputs": [],
   "source": [
    "/// <summary>\n",
    "/// Prediction/Forecast for Confirmed cases\n",
    "/// </summary>\n",
    "internal class ConfirmedForecast\n",
    "{\n",
    "    /// <summary>\n",
    "    /// No of predicted confirmed cases for multiple days\n",
    "    /// </summary>\n",
    "    public float[] Forecast { get; set; }\n",
    "}"
   ]
  },
  {
   "cell_type": "markdown",
   "metadata": {},
   "source": [
    "### 5. Data Analysis"
   ]
  },
  {
   "cell_type": "markdown",
   "metadata": {},
   "source": [
    "For loading data from csv, first we need to create MLContext that acts as a starting point for creating a machine learning model in ML.Net. Few things to note\n",
    "- Set hasHeader as true as our dataset has header\n",
    "- Add separatorChar to ',' as its a csv"
   ]
  },
  {
   "cell_type": "markdown",
   "metadata": {},
   "source": [
    "#### Visualize Data - DataFrame"
   ]
  },
  {
   "cell_type": "code",
   "execution_count": 9,
   "metadata": {
    "execution": {
     "iopub.execute_input": "2020-05-28T22:23:40.991Z",
     "iopub.status.busy": "2020-05-28T22:23:40.974Z",
     "iopub.status.idle": "2020-05-28T22:23:41.030Z"
    }
   },
   "outputs": [],
   "source": [
    "var predictedDf = DataFrame.LoadCsv(CONFIRMED_DATASET_FILE);"
   ]
  },
  {
   "cell_type": "code",
   "execution_count": 10,
   "metadata": {
    "execution": {
     "iopub.execute_input": "2020-05-28T22:23:41.465Z",
     "iopub.status.busy": "2020-05-28T22:23:41.452Z",
     "iopub.status.idle": "2020-05-28T22:23:41.698Z"
    }
   },
   "outputs": [
    {
     "data": {
      "text/html": [
       "<table><thead><th><i>index</i></th><th>Date</th><th>TotalConfirmed</th></thead><tbody><tr><td>0</td><td>1/22/2020</td><td>555</td></tr><tr><td>1</td><td>1/23/2020</td><td>654</td></tr><tr><td>2</td><td>1/24/2020</td><td>941</td></tr><tr><td>3</td><td>1/25/2020</td><td>1434</td></tr><tr><td>4</td><td>1/26/2020</td><td>2118</td></tr><tr><td>5</td><td>1/27/2020</td><td>2927</td></tr><tr><td>6</td><td>1/28/2020</td><td>5578</td></tr><tr><td>7</td><td>1/29/2020</td><td>6166</td></tr><tr><td>8</td><td>1/30/2020</td><td>8234</td></tr><tr><td>9</td><td>1/31/2020</td><td>9927</td></tr></tbody></table>"
      ]
     },
     "execution_count": 10,
     "metadata": {},
     "output_type": "execute_result"
    }
   ],
   "source": [
    "predictedDf.Head(DEFAULT_ROW_COUNT)"
   ]
  },
  {
   "cell_type": "code",
   "execution_count": 11,
   "metadata": {
    "execution": {
     "iopub.execute_input": "2020-05-28T22:23:41.975Z",
     "iopub.status.busy": "2020-05-28T22:23:41.955Z",
     "iopub.status.idle": "2020-05-28T22:23:42.010Z"
    },
    "scrolled": true
   },
   "outputs": [
    {
     "data": {
      "text/html": [
       "<table><thead><th><i>index</i></th><th>Date</th><th>TotalConfirmed</th></thead><tbody><tr><td>0</td><td>5/18/2020</td><td>4801943</td></tr><tr><td>1</td><td>5/19/2020</td><td>4897492</td></tr><tr><td>2</td><td>5/20/2020</td><td>4996472</td></tr><tr><td>3</td><td>5/21/2020</td><td>5102424</td></tr><tr><td>4</td><td>5/22/2020</td><td>5211156</td></tr><tr><td>5</td><td>5/23/2020</td><td>5311020</td></tr><tr><td>6</td><td>5/24/2020</td><td>5407613</td></tr><tr><td>7</td><td>5/25/2020</td><td>5495061</td></tr><tr><td>8</td><td>5/26/2020</td><td>5589626</td></tr><tr><td>9</td><td>5/27/2020</td><td>5691790</td></tr></tbody></table>"
      ]
     },
     "execution_count": 11,
     "metadata": {},
     "output_type": "execute_result"
    }
   ],
   "source": [
    "predictedDf.Tail(DEFAULT_ROW_COUNT)"
   ]
  },
  {
   "cell_type": "code",
   "execution_count": 12,
   "metadata": {
    "execution": {
     "iopub.execute_input": "2020-05-28T22:23:42.473Z",
     "iopub.status.busy": "2020-05-28T22:23:42.462Z",
     "iopub.status.idle": "2020-05-28T22:23:42.501Z"
    },
    "scrolled": true
   },
   "outputs": [
    {
     "data": {
      "text/html": [
       "<table><thead><th><i>index</i></th><th>Description</th><th>TotalConfirmed</th></thead><tbody><tr><td>0</td><td>Length (excluding null values)</td><td>127</td></tr><tr><td>1</td><td>Max</td><td>5691790</td></tr><tr><td>2</td><td>Min</td><td>555</td></tr><tr><td>3</td><td>Mean</td><td>1531269</td></tr></tbody></table>"
      ]
     },
     "execution_count": 12,
     "metadata": {},
     "output_type": "execute_result"
    }
   ],
   "source": [
    "predictedDf.Description()"
   ]
  },
  {
   "cell_type": "markdown",
   "metadata": {},
   "source": [
    "##### Number of Confirmed cases over Time"
   ]
  },
  {
   "cell_type": "code",
   "execution_count": 13,
   "metadata": {
    "execution": {
     "iopub.execute_input": "2020-05-28T22:23:43.377Z",
     "iopub.status.busy": "2020-05-28T22:23:43.358Z",
     "iopub.status.idle": "2020-05-28T22:23:43.395Z"
    }
   },
   "outputs": [],
   "source": [
    "// Number of confirmed cases over time\n",
    "var totalConfirmedDateColumn = predictedDf.Columns[DATE_COLUMN];\n",
    "var totalConfirmedColumn = predictedDf.Columns[TOTAL_CONFIRMED_COLUMN];\n",
    "\n",
    "var dates = new List<string>();\n",
    "var totalConfirmedCases = new List<string>();\n",
    "for (int index = 0; index < totalConfirmedDateColumn.Length; index++)\n",
    "{\n",
    "    dates.Add(totalConfirmedDateColumn[index].ToString());\n",
    "    totalConfirmedCases.Add(totalConfirmedColumn[index].ToString());\n",
    "}"
   ]
  },
  {
   "cell_type": "code",
   "execution_count": 14,
   "metadata": {
    "execution": {
     "iopub.execute_input": "2020-05-28T22:23:43.879Z",
     "iopub.status.busy": "2020-05-28T22:23:43.863Z",
     "iopub.status.idle": "2020-05-28T22:23:43.947Z"
    },
    "scrolled": true
   },
   "outputs": [
    {
     "data": {
      "text/html": [
       "<div id=\"c8be2ecc-88ae-43b3-8f2f-646322af5208\" style=\"width: 900px; height: 500px;\"></div>\r\n",
       "<script type=\"text/javascript\">\r\n",
       "\r\n",
       "var renderPlotly = function() {\r\n",
       "    var xplotRequire = requirejs.config({context:'xplot-3.0.1',paths:{plotly:'https://cdn.plot.ly/plotly-1.49.2.min'}});\r\n",
       "    xplotRequire(['plotly'], function(Plotly) {\r\n",
       "\n",
       "            var data = [{\"type\":\"scattergl\",\"x\":[\"1/22/2020\",\"1/23/2020\",\"1/24/2020\",\"1/25/2020\",\"1/26/2020\",\"1/27/2020\",\"1/28/2020\",\"1/29/2020\",\"1/30/2020\",\"1/31/2020\",\"2/1/2020\",\"2/2/2020\",\"2/3/2020\",\"2/4/2020\",\"2/5/2020\",\"2/6/2020\",\"2/7/2020\",\"2/8/2020\",\"2/9/2020\",\"2/10/2020\",\"2/11/2020\",\"2/12/2020\",\"2/13/2020\",\"2/14/2020\",\"2/15/2020\",\"2/16/2020\",\"2/17/2020\",\"2/18/2020\",\"2/19/2020\",\"2/20/2020\",\"2/21/2020\",\"2/22/2020\",\"2/23/2020\",\"2/24/2020\",\"2/25/2020\",\"2/26/2020\",\"2/27/2020\",\"2/28/2020\",\"2/29/2020\",\"3/1/2020\",\"3/2/2020\",\"3/3/2020\",\"3/4/2020\",\"3/5/2020\",\"3/6/2020\",\"3/7/2020\",\"3/8/2020\",\"3/9/2020\",\"3/10/2020\",\"3/11/2020\",\"3/12/2020\",\"3/13/2020\",\"3/14/2020\",\"3/15/2020\",\"3/16/2020\",\"3/17/2020\",\"3/18/2020\",\"3/19/2020\",\"3/20/2020\",\"3/21/2020\",\"3/22/2020\",\"3/23/2020\",\"3/24/2020\",\"3/25/2020\",\"3/26/2020\",\"3/27/2020\",\"3/28/2020\",\"3/29/2020\",\"3/30/2020\",\"3/31/2020\",\"4/1/2020\",\"4/2/2020\",\"4/3/2020\",\"4/4/2020\",\"4/5/2020\",\"4/6/2020\",\"4/7/2020\",\"4/8/2020\",\"4/9/2020\",\"4/10/2020\",\"4/11/2020\",\"4/12/2020\",\"4/13/2020\",\"4/14/2020\",\"4/15/2020\",\"4/16/2020\",\"4/17/2020\",\"4/18/2020\",\"4/19/2020\",\"4/20/2020\",\"4/21/2020\",\"4/22/2020\",\"4/23/2020\",\"4/24/2020\",\"4/25/2020\",\"4/26/2020\",\"4/27/2020\",\"4/28/2020\",\"4/29/2020\",\"4/30/2020\",\"5/1/2020\",\"5/2/2020\",\"5/3/2020\",\"5/4/2020\",\"5/5/2020\",\"5/6/2020\",\"5/7/2020\",\"5/8/2020\",\"5/9/2020\",\"5/10/2020\",\"5/11/2020\",\"5/12/2020\",\"5/13/2020\",\"5/14/2020\",\"5/15/2020\",\"5/16/2020\",\"5/17/2020\",\"5/18/2020\",\"5/19/2020\",\"5/20/2020\",\"5/21/2020\",\"5/22/2020\",\"5/23/2020\",\"5/24/2020\",\"5/25/2020\",\"5/26/2020\",\"5/27/2020\"],\"y\":[\"555\",\"654\",\"941\",\"1434\",\"2118\",\"2927\",\"5578\",\"6166\",\"8234\",\"9927\",\"12038\",\"16787\",\"19881\",\"23892\",\"27635\",\"30794\",\"34391\",\"37120\",\"40150\",\"42762\",\"44802\",\"45221\",\"60368\",\"66885\",\"69030\",\"71224\",\"73258\",\"75136\",\"75639\",\"76197\",\"76819\",\"78572\",\"78958\",\"79561\",\"80406\",\"81388\",\"82746\",\"84112\",\"86011\",\"88369\",\"90306\",\"92840\",\"95120\",\"97888\",\"101806\",\"105848\",\"109822\",\"113595\",\"118623\",\"125879\",\"131007\",\"145225\",\"156120\",\"167507\",\"181653\",\"197150\",\"214873\",\"242632\",\"272264\",\"304580\",\"337022\",\"378301\",\"418295\",\"467817\",\"529722\",\"593764\",\"661174\",\"720291\",\"782816\",\"857608\",\"933010\",\"1013863\",\"1096324\",\"1176436\",\"1249743\",\"1321436\",\"1396438\",\"1480232\",\"1566102\",\"1658261\",\"1736412\",\"1835145\",\"1905165\",\"1975566\",\"2055748\",\"2152181\",\"2239990\",\"2317636\",\"2400787\",\"2472109\",\"2549046\",\"2624608\",\"2708403\",\"2795731\",\"2881140\",\"2955033\",\"3023722\",\"3097229\",\"3172287\",\"3256910\",\"3345558\",\"3427584\",\"3506729\",\"3583055\",\"3662691\",\"3756069\",\"3845718\",\"3938064\",\"4024009\",\"4101699\",\"4177502\",\"4261747\",\"4347018\",\"4442163\",\"4542347\",\"4634068\",\"4713620\",\"4801943\",\"4897492\",\"4996472\",\"5102424\",\"5211156\",\"5311020\",\"5407613\",\"5495061\",\"5589626\",\"5691790\"],\"mode\":\"lines+markers\"}];\n",
       "            var layout = {\"title\":\"Number of Confirmed Cases over Time\"};\n",
       "            Plotly.newPlot('c8be2ecc-88ae-43b3-8f2f-646322af5208', data, layout);\n",
       "        \r\n",
       "});\r\n",
       "};\r\n",
       "if ((typeof(requirejs) !==  typeof(Function)) || (typeof(requirejs.config) !== typeof(Function))) { \r\n",
       "    var script = document.createElement(\"script\"); \r\n",
       "    script.setAttribute(\"src\", \"https://cdnjs.cloudflare.com/ajax/libs/require.js/2.3.6/require.min.js\"); \r\n",
       "    script.onload = function(){\r\n",
       "        renderPlotly();\r\n",
       "    };\r\n",
       "    document.getElementsByTagName(\"head\")[0].appendChild(script); \r\n",
       "}\r\n",
       "else {\r\n",
       "    renderPlotly();\r\n",
       "}\r\n",
       "</script>\r\n"
      ]
     },
     "metadata": {},
     "output_type": "display_data"
    }
   ],
   "source": [
    "var title = \"Number of Confirmed Cases over Time\";\n",
    "var confirmedTimeGraph = new Graph.Scattergl()\n",
    "    {\n",
    "        x = dates.ToArray(),\n",
    "        y = totalConfirmedCases.ToArray(),\n",
    "        mode = \"lines+markers\"\n",
    "    };\n",
    "    \n",
    "\n",
    "\n",
    "var chart = Chart.Plot(confirmedTimeGraph);\n",
    "chart.WithTitle(title);\n",
    "display(chart);"
   ]
  },
  {
   "cell_type": "markdown",
   "metadata": {},
   "source": [
    "**Analysis**\n",
    "- Duration: 1/22/2020 through 5/27/2020\n",
    "- Total records: 127\n",
    "- Case on first day: 555\n",
    "- Case on last day: 5691790\n",
    "- No of confirmed cases was low in the beginning, there was first jump around 2/12/2020 and an exponential jump around 3/22/2020.\n",
    "- Cases have been increasing at an alarming rate in the past two months."
   ]
  },
  {
   "cell_type": "markdown",
   "metadata": {},
   "source": [
    "### 6. Load Data - MLContext"
   ]
  },
  {
   "cell_type": "code",
   "execution_count": 15,
   "metadata": {
    "execution": {
     "iopub.execute_input": "2020-05-28T22:23:46.304Z",
     "iopub.status.busy": "2020-05-28T22:23:46.293Z",
     "iopub.status.idle": "2020-05-28T22:23:46.330Z"
    }
   },
   "outputs": [],
   "source": [
    "var context = new MLContext();"
   ]
  },
  {
   "cell_type": "code",
   "execution_count": 16,
   "metadata": {
    "execution": {
     "iopub.execute_input": "2020-05-28T22:23:46.737Z",
     "iopub.status.busy": "2020-05-28T22:23:46.726Z",
     "iopub.status.idle": "2020-05-28T22:23:46.819Z"
    }
   },
   "outputs": [],
   "source": [
    "var data = context.Data.LoadFromTextFile<ConfirmedData>(CONFIRMED_DATASET_FILE, hasHeader: true, separatorChar: ',');"
   ]
  },
  {
   "cell_type": "markdown",
   "metadata": {},
   "source": [
    "### 7. ML Pipeline"
   ]
  },
  {
   "cell_type": "markdown",
   "metadata": {},
   "source": [
    "For creating ML Pipeline for a time-series analysis, we'll use [Single Spectrum Analysis](https://en.wikipedia.org/wiki/Singular_spectrum_analysis). ML.Net provides built in API for same, more details could be found at [TimeSeriesCatalog.ForecastBySsa](https://docs.microsoft.com/en-us/dotnet/api/microsoft.ml.timeseriescatalog.forecastbyssa?view=ml-dotnet) "
   ]
  },
  {
   "cell_type": "code",
   "execution_count": 17,
   "metadata": {
    "execution": {
     "iopub.execute_input": "2020-05-28T22:23:51.054Z",
     "iopub.status.busy": "2020-05-28T22:23:51.040Z",
     "iopub.status.idle": "2020-05-28T22:23:51.072Z"
    }
   },
   "outputs": [],
   "source": [
    "var pipeline = context.Forecasting.ForecastBySsa(\n",
    "                nameof(ConfirmedForecast.Forecast),\n",
    "                nameof(ConfirmedData.TotalConfirmed),\n",
    "                WINDOW_SIZE, \n",
    "                SERIES_LENGTH,\n",
    "                TRAIN_SIZE,\n",
    "                HORIZON);"
   ]
  },
  {
   "cell_type": "code",
   "execution_count": 18,
   "metadata": {},
   "outputs": [
    {
     "data": {
      "text/plain": [
       "\u001b[90mLogging enabled\u001b[0m"
      ]
     },
     "metadata": {},
     "output_type": "display_data"
    }
   ],
   "source": [
    "#!log"
   ]
  },
  {
   "cell_type": "markdown",
   "metadata": {},
   "source": [
    "### 8. Train Model"
   ]
  },
  {
   "cell_type": "markdown",
   "metadata": {},
   "source": [
    "We are ready with our pipeline and ready to train the model"
   ]
  },
  {
   "cell_type": "code",
   "execution_count": 19,
   "metadata": {
    "execution": {
     "iopub.execute_input": "2020-05-28T22:24:01.162Z",
     "iopub.status.busy": "2020-05-28T22:24:01.143Z",
     "iopub.status.idle": "2020-05-28T22:24:01.278Z"
    }
   },
   "outputs": [
    {
     "data": {
      "text/plain": [
       "\u001b[90mSubmitCode: var model = pipeline.Fit(data);\u001b[0m"
      ]
     },
     "metadata": {},
     "output_type": "display_data"
    },
    {
     "data": {
      "text/plain": [
       "\u001b[90mCodeSubmissionReceived: var model = pipeline.Fit(data);\u001b[0m"
      ]
     },
     "metadata": {},
     "output_type": "display_data"
    },
    {
     "data": {
      "text/plain": [
       "\u001b[90mCompleteCodeSubmissionReceived: var model = pipeline.Fit(data);\u001b[0m"
      ]
     },
     "metadata": {},
     "output_type": "display_data"
    },
    {
     "data": {
      "text/plain": [
       "\u001b[90m2020-05-29T06:06:38.3988147Z [00-af5397e93ec0db4ca70e3467b33039b8-a5081a9355365549-00]  ℹ OnAssemblyLoad: C:\\Users\\praghuvanshi\\.nuget\\packages\\microsoft.ml.cpumath\\1.5.0\\lib\\netcoreapp3.1\\Microsoft.ML.CpuMath.dll \u001b[0m"
      ]
     },
     "metadata": {},
     "output_type": "display_data"
    },
    {
     "data": {
      "text/plain": [
       "\u001b[90m2020-05-29T06:06:38.4122851Z [00-af5397e93ec0db4ca70e3467b33039b8-a5081a9355365549-00]  ℹ OnAssemblyLoad: C:\\Users\\praghuvanshi\\.nuget\\packages\\microsoft.ml.cpumath\\1.5.0\\lib\\netcoreapp3.1\\Microsoft.ML.CpuMath.dll \u001b[0m"
      ]
     },
     "metadata": {},
     "output_type": "display_data"
    },
    {
     "data": {
      "text/plain": [
       "\u001b[90m2020-05-29T06:06:38.4179725Z [00-af5397e93ec0db4ca70e3467b33039b8-a5081a9355365549-00]  ℹ OnAssemblyLoad: C:\\Program Files\\dotnet\\shared\\Microsoft.NETCore.App\\3.1.4\\System.Runtime.Intrinsics.dll \u001b[0m"
      ]
     },
     "metadata": {},
     "output_type": "display_data"
    },
    {
     "data": {
      "text/plain": [
       "\u001b[90m2020-05-29T06:06:38.4182246Z [00-af5397e93ec0db4ca70e3467b33039b8-a5081a9355365549-00]  ℹ OnAssemblyLoad: C:\\Program Files\\dotnet\\shared\\Microsoft.NETCore.App\\3.1.4\\System.Runtime.Intrinsics.dll \u001b[0m"
      ]
     },
     "metadata": {},
     "output_type": "display_data"
    },
    {
     "ename": "Unhandled exception",
     "evalue": "System.DllNotFoundException: Unable to load DLL 'MklImports' or one of its dependencies: The specified module could not be found. (0x8007007E)\r\n   at Microsoft.ML.Transforms.TimeSeries.EigenUtils.Dsytrd(Layout matrixLayout, Uplo uplo, Int32 n, Double[] a, Int32 lda, Double[] d, Double[] e, Double[] tau)\r\n   at Microsoft.ML.Transforms.TimeSeries.EigenUtils.MklSymmetricEigenDecomposition(Single[] input, Int32 size, Single[]& eigenValues, Single[]& eigenVectors)\r\n   at Microsoft.ML.Transforms.TimeSeries.TrajectoryMatrix.ComputeSvd(Single[]& singularValues, Single[]& leftSingularvectors)\r\n   at Microsoft.ML.Transforms.TimeSeries.AdaptiveSingularSpectrumSequenceModelerInternal.TrainCore(Single[] dataArray, Int32 originalSeriesLength)\r\n   at Microsoft.ML.Transforms.TimeSeries.AdaptiveSingularSpectrumSequenceModelerInternal.Train(RoleMappedData data)\r\n   at Microsoft.ML.Transforms.TimeSeries.SsaForecastingTransformer..ctor(IHostEnvironment env, Options options, IDataView input)\r\n   at Microsoft.ML.Transforms.TimeSeries.SsaForecastingEstimator.Fit(IDataView input)\r\n   at Submission#27.<<Initialize>>d__0.MoveNext()\r\n--- End of stack trace from previous location where exception was thrown ---\r\n   at Microsoft.CodeAnalysis.Scripting.ScriptExecutionState.RunSubmissionsAsync[TResult](ImmutableArray`1 precedingExecutors, Func`2 currentExecutor, StrongBox`1 exceptionHolderOpt, Func`2 catchExceptionOpt, CancellationToken cancellationToken)",
     "output_type": "error",
     "traceback": [
      "System.DllNotFoundException: Unable to load DLL 'MklImports' or one of its dependencies: The specified module could not be found. (0x8007007E)\r\n   at Microsoft.ML.Transforms.TimeSeries.EigenUtils.Dsytrd(Layout matrixLayout, Uplo uplo, Int32 n, Double[] a, Int32 lda, Double[] d, Double[] e, Double[] tau)\r\n   at Microsoft.ML.Transforms.TimeSeries.EigenUtils.MklSymmetricEigenDecomposition(Single[] input, Int32 size, Single[]& eigenValues, Single[]& eigenVectors)\r\n   at Microsoft.ML.Transforms.TimeSeries.TrajectoryMatrix.ComputeSvd(Single[]& singularValues, Single[]& leftSingularvectors)\r\n   at Microsoft.ML.Transforms.TimeSeries.AdaptiveSingularSpectrumSequenceModelerInternal.TrainCore(Single[] dataArray, Int32 originalSeriesLength)\r\n   at Microsoft.ML.Transforms.TimeSeries.AdaptiveSingularSpectrumSequenceModelerInternal.Train(RoleMappedData data)\r\n   at Microsoft.ML.Transforms.TimeSeries.SsaForecastingTransformer..ctor(IHostEnvironment env, Options options, IDataView input)\r\n   at Microsoft.ML.Transforms.TimeSeries.SsaForecastingEstimator.Fit(IDataView input)\r\n   at Submission#27.<<Initialize>>d__0.MoveNext()\r\n--- End of stack trace from previous location where exception was thrown ---\r\n   at Microsoft.CodeAnalysis.Scripting.ScriptExecutionState.RunSubmissionsAsync[TResult](ImmutableArray`1 precedingExecutors, Func`2 currentExecutor, StrongBox`1 exceptionHolderOpt, Func`2 catchExceptionOpt, CancellationToken cancellationToken)",
      "   at Microsoft.ML.Transforms.TimeSeries.EigenUtils.Dsytrd(Layout matrixLayout, Uplo uplo, Int32 n, Double[] a, Int32 lda, Double[] d, Double[] e, Double[] tau)",
      "   at Microsoft.ML.Transforms.TimeSeries.EigenUtils.MklSymmetricEigenDecomposition(Single[] input, Int32 size, Single[]& eigenValues, Single[]& eigenVectors)",
      "   at Microsoft.ML.Transforms.TimeSeries.TrajectoryMatrix.ComputeSvd(Single[]& singularValues, Single[]& leftSingularvectors)",
      "   at Microsoft.ML.Transforms.TimeSeries.AdaptiveSingularSpectrumSequenceModelerInternal.TrainCore(Single[] dataArray, Int32 originalSeriesLength)",
      "   at Microsoft.ML.Transforms.TimeSeries.AdaptiveSingularSpectrumSequenceModelerInternal.Train(RoleMappedData data)",
      "   at Microsoft.ML.Transforms.TimeSeries.SsaForecastingTransformer..ctor(IHostEnvironment env, Options options, IDataView input)",
      "   at Microsoft.ML.Transforms.TimeSeries.SsaForecastingEstimator.Fit(IDataView input)",
      "   at Submission#27.<<Initialize>>d__0.MoveNext()",
      "--- End of stack trace from previous location where exception was thrown ---",
      "   at Microsoft.CodeAnalysis.Scripting.ScriptExecutionState.RunSubmissionsAsync[TResult](ImmutableArray`1 precedingExecutors, Func`2 currentExecutor, StrongBox`1 exceptionHolderOpt, Func`2 catchExceptionOpt, CancellationToken cancellationToken)"
     ]
    },
    {
     "data": {
      "text/plain": [
       "\u001b[90mCommandFailed: System.DllNotFoundException: Unable to load DLL 'MklImports' or one of its dependencies: The specified module could not be found. (0x8007007E)\r\n",
       "   at Microsoft.ML.Transforms.TimeSeries.EigenUtils.Dsytrd(Layout matrixLayout, Uplo uplo, Int32 n, Double[] a, Int32 lda, Double[] d, Double[] e, Double[] tau)\r\n",
       "   at Microsoft.ML.Transforms.TimeSeries.EigenUtils.MklSymmetricEigenDecomposition(Single[] input, Int32 size, Single[]& eigenValues, Single[]& eigenVectors)\r\n",
       "   at Microsoft.ML.Transforms.TimeSeries.TrajectoryMatrix.ComputeSvd(Single[]& singularValues, Single[]& leftSingularvectors)\r\n",
       "   at Microsoft.ML.Transforms.TimeSeries.AdaptiveSingularSpectrumSequenceModelerInternal.TrainCore(Single[] dataArray, Int32 originalSeriesLength)\r\n",
       "   at Microsoft.ML.Transforms.TimeSeries.AdaptiveSingularSpectrumSequenceModelerInternal.Train(RoleMappedData data)\r\n",
       "   at Microsoft.ML.Transforms.TimeSeries.SsaForecastingTransformer..ctor(IHostEnvironment env, Options options, IDataView input)\r\n",
       "   at Microsoft.ML.Transforms.TimeSeries.SsaForecastingEstimator.Fit(IDataView input)\r\n",
       "   at Submission#27.<<Initialize>>d__0.MoveNext()\r\n",
       "--- End of stack trace from previous location where exception was thrown ---\r\n",
       "   at Microsoft.CodeAnalysis.Scripting.ScriptExecutionState.RunSubmissionsAsync[TResult](ImmutableArray`1 precedingExecutors, Func`2 currentExecutor, StrongBox`1 exceptionHolderOpt, Func`2 catchExceptionOpt, CancellationToken cancellationToken)\u001b[0m"
      ]
     },
     "metadata": {},
     "output_type": "display_data"
    }
   ],
   "source": [
    "var model = pipeline.Fit(data);"
   ]
  },
  {
   "cell_type": "markdown",
   "metadata": {},
   "source": [
    "### 9. Prediction/Forecasting - 7 days"
   ]
  },
  {
   "cell_type": "markdown",
   "metadata": {},
   "source": [
    "Our model is trained and we need to do prediction for next 7(Horizon) days.\n",
    "Time-series provides its own engine for making prediction which is similar to PredictionEngine present in ML.Net. Predicted values show an increasing trend which is in alignment with recent past values."
   ]
  },
  {
   "cell_type": "code",
   "execution_count": 18,
   "metadata": {},
   "outputs": [
    {
     "data": {
      "text/plain": [
       "\u001b[90mSubmitCode: var forecastingEngine = model.CreateTimeSeriesEngi ...\u001b[0m"
      ]
     },
     "metadata": {},
     "output_type": "display_data"
    },
    {
     "data": {
      "text/plain": [
       "\u001b[90mCodeSubmissionReceived: var forecastingEngine = model.CreateTimeSeriesEngi ...\u001b[0m"
      ]
     },
     "metadata": {},
     "output_type": "display_data"
    },
    {
     "data": {
      "text/plain": [
       "\u001b[90mCompleteCodeSubmissionReceived: var forecastingEngine = model.CreateTimeSeriesEngi ...\u001b[0m"
      ]
     },
     "metadata": {},
     "output_type": "display_data"
    },
    {
     "ename": "Unhandled exception",
     "evalue": "System.ArgumentNullException: Value cannot be null. (Parameter 'transformer')\r\n   at Microsoft.ML.Runtime.Contracts.CheckValue[T](IExceptionContext ctx, T val, String paramName)\r\n   at Microsoft.ML.Transforms.TimeSeries.PredictionFunctionExtensions.CreateTimeSeriesEngine[TSrc,TDst](ITransformer transformer, IHostEnvironment env, Boolean ignoreMissingColumns, SchemaDefinition inputSchemaDefinition, SchemaDefinition outputSchemaDefinition)\r\n   at Submission#24.<<Initialize>>d__0.MoveNext()\r\n--- End of stack trace from previous location where exception was thrown ---\r\n   at Microsoft.CodeAnalysis.Scripting.ScriptExecutionState.RunSubmissionsAsync[TResult](ImmutableArray`1 precedingExecutors, Func`2 currentExecutor, StrongBox`1 exceptionHolderOpt, Func`2 catchExceptionOpt, CancellationToken cancellationToken)",
     "output_type": "error",
     "traceback": [
      "System.ArgumentNullException: Value cannot be null. (Parameter 'transformer')\r\n   at Microsoft.ML.Runtime.Contracts.CheckValue[T](IExceptionContext ctx, T val, String paramName)\r\n   at Microsoft.ML.Transforms.TimeSeries.PredictionFunctionExtensions.CreateTimeSeriesEngine[TSrc,TDst](ITransformer transformer, IHostEnvironment env, Boolean ignoreMissingColumns, SchemaDefinition inputSchemaDefinition, SchemaDefinition outputSchemaDefinition)\r\n   at Submission#24.<<Initialize>>d__0.MoveNext()\r\n--- End of stack trace from previous location where exception was thrown ---\r\n   at Microsoft.CodeAnalysis.Scripting.ScriptExecutionState.RunSubmissionsAsync[TResult](ImmutableArray`1 precedingExecutors, Func`2 currentExecutor, StrongBox`1 exceptionHolderOpt, Func`2 catchExceptionOpt, CancellationToken cancellationToken)",
      "   at Microsoft.ML.Runtime.Contracts.CheckValue[T](IExceptionContext ctx, T val, String paramName)",
      "   at Microsoft.ML.Transforms.TimeSeries.PredictionFunctionExtensions.CreateTimeSeriesEngine[TSrc,TDst](ITransformer transformer, IHostEnvironment env, Boolean ignoreMissingColumns, SchemaDefinition inputSchemaDefinition, SchemaDefinition outputSchemaDefinition)",
      "   at Submission#24.<<Initialize>>d__0.MoveNext()",
      "--- End of stack trace from previous location where exception was thrown ---",
      "   at Microsoft.CodeAnalysis.Scripting.ScriptExecutionState.RunSubmissionsAsync[TResult](ImmutableArray`1 precedingExecutors, Func`2 currentExecutor, StrongBox`1 exceptionHolderOpt, Func`2 catchExceptionOpt, CancellationToken cancellationToken)"
     ]
    },
    {
     "data": {
      "text/plain": [
       "\u001b[90mCommandFailed: System.ArgumentNullException: Value cannot be null. (Parameter 'transformer')\r\n",
       "   at Microsoft.ML.Runtime.Contracts.CheckValue[T](IExceptionContext ctx, T val, String paramName)\r\n",
       "   at Microsoft.ML.Transforms.TimeSeries.PredictionFunctionExtensions.CreateTimeSeriesEngine[TSrc,TDst](ITransformer transformer, IHostEnvironment env, Boolean ignoreMissingColumns, SchemaDefinition inputSchemaDefinition, SchemaDefinition outputSchemaDefinition)\r\n",
       "   at Submission#24.<<Initialize>>d__0.MoveNext()\r\n",
       "--- End of stack trace from previous location where exception was thrown ---\r\n",
       "   at Microsoft.CodeAnalysis.Scripting.ScriptExecutionState.RunSubmissionsAsync[TResult](ImmutableArray`1 precedingExecutors, Func`2 currentExecutor, StrongBox`1 exceptionHolderOpt, Func`2 catchExceptionOpt, CancellationToken cancellationToken)\u001b[0m"
      ]
     },
     "metadata": {},
     "output_type": "display_data"
    }
   ],
   "source": [
    "var forecastingEngine = model.CreateTimeSeriesEngine<ConfirmedData, ConfirmedForecast>(context);\n",
    "var forecasts = forecastingEngine.Predict();\n",
    "display(forecasts.Forecast.Select(x => (int) x))"
   ]
  },
  {
   "cell_type": "markdown",
   "metadata": {},
   "source": [
    "### 10. Prediction Visualization"
   ]
  },
  {
   "cell_type": "code",
   "execution_count": 19,
   "metadata": {},
   "outputs": [
    {
     "data": {
      "text/plain": [
       "\u001b[90mSubmitCode: var lastDate = DateTime.Parse(dates.LastOrDefault( ...\u001b[0m"
      ]
     },
     "metadata": {},
     "output_type": "display_data"
    },
    {
     "data": {
      "text/plain": [
       "\u001b[90mCodeSubmissionReceived: var lastDate = DateTime.Parse(dates.LastOrDefault( ...\u001b[0m"
      ]
     },
     "metadata": {},
     "output_type": "display_data"
    },
    {
     "data": {
      "text/plain": [
       "\u001b[90mCompleteCodeSubmissionReceived: var lastDate = DateTime.Parse(dates.LastOrDefault( ...\u001b[0m"
      ]
     },
     "metadata": {},
     "output_type": "display_data"
    },
    {
     "ename": "Unhandled exception",
     "evalue": "System.NullReferenceException: Object reference not set to an instance of an object.\r\n   at Submission#25.<<Initialize>>d__0.MoveNext()\r\n--- End of stack trace from previous location where exception was thrown ---\r\n   at Microsoft.CodeAnalysis.Scripting.ScriptExecutionState.RunSubmissionsAsync[TResult](ImmutableArray`1 precedingExecutors, Func`2 currentExecutor, StrongBox`1 exceptionHolderOpt, Func`2 catchExceptionOpt, CancellationToken cancellationToken)",
     "output_type": "error",
     "traceback": [
      "System.NullReferenceException: Object reference not set to an instance of an object.\r\n   at Submission#25.<<Initialize>>d__0.MoveNext()\r\n--- End of stack trace from previous location where exception was thrown ---\r\n   at Microsoft.CodeAnalysis.Scripting.ScriptExecutionState.RunSubmissionsAsync[TResult](ImmutableArray`1 precedingExecutors, Func`2 currentExecutor, StrongBox`1 exceptionHolderOpt, Func`2 catchExceptionOpt, CancellationToken cancellationToken)",
      "   at Submission#25.<<Initialize>>d__0.MoveNext()",
      "--- End of stack trace from previous location where exception was thrown ---",
      "   at Microsoft.CodeAnalysis.Scripting.ScriptExecutionState.RunSubmissionsAsync[TResult](ImmutableArray`1 precedingExecutors, Func`2 currentExecutor, StrongBox`1 exceptionHolderOpt, Func`2 catchExceptionOpt, CancellationToken cancellationToken)"
     ]
    },
    {
     "data": {
      "text/plain": [
       "\u001b[90mCommandFailed: System.NullReferenceException: Object reference not set to an instance of an object.\r\n",
       "   at Submission#25.<<Initialize>>d__0.MoveNext()\r\n",
       "--- End of stack trace from previous location where exception was thrown ---\r\n",
       "   at Microsoft.CodeAnalysis.Scripting.ScriptExecutionState.RunSubmissionsAsync[TResult](ImmutableArray`1 precedingExecutors, Func`2 currentExecutor, StrongBox`1 exceptionHolderOpt, Func`2 catchExceptionOpt, CancellationToken cancellationToken)\u001b[0m"
      ]
     },
     "metadata": {},
     "output_type": "display_data"
    }
   ],
   "source": [
    "var lastDate = DateTime.Parse(dates.LastOrDefault());\n",
    "var predictionStartDate = lastDate.AddDays(1);\n",
    "\n",
    "for (int index = 0; index < HORIZON; index++)\n",
    "{\n",
    "    dates.Add(lastDate.AddDays(index + 1).ToShortDateString());\n",
    "    totalConfirmedCases.Add(forecasts.Forecast[index].ToString());\n",
    "}"
   ]
  },
  {
   "cell_type": "code",
   "execution_count": 20,
   "metadata": {
    "scrolled": true
   },
   "outputs": [
    {
     "data": {
      "text/plain": [
       "\u001b[90mSubmitCode: var title = \"Number of Confirmed Cases over Time\"; ...\u001b[0m"
      ]
     },
     "metadata": {},
     "output_type": "display_data"
    },
    {
     "data": {
      "text/plain": [
       "\u001b[90mCodeSubmissionReceived: var title = \"Number of Confirmed Cases over Time\"; ...\u001b[0m"
      ]
     },
     "metadata": {},
     "output_type": "display_data"
    },
    {
     "data": {
      "text/plain": [
       "\u001b[90mCompleteCodeSubmissionReceived: var title = \"Number of Confirmed Cases over Time\"; ...\u001b[0m"
      ]
     },
     "metadata": {},
     "output_type": "display_data"
    },
    {
     "data": {
      "text/html": [
       "<div id=\"c7f7564c-8b73-4b3a-bd1a-58b798a130cc\" style=\"width: 900px; height: 500px;\"></div>\r\n",
       "<script type=\"text/javascript\">\r\n",
       "\r\n",
       "var renderPlotly = function() {\r\n",
       "    var xplotRequire = requirejs.config({context:'xplot-3.0.1',paths:{plotly:'https://cdn.plot.ly/plotly-1.49.2.min'}});\r\n",
       "    xplotRequire(['plotly'], function(Plotly) {\r\n",
       "\n",
       "            var data = [{\"type\":\"scattergl\",\"x\":[\"1/22/2020\",\"1/23/2020\",\"1/24/2020\",\"1/25/2020\",\"1/26/2020\",\"1/27/2020\",\"1/28/2020\",\"1/29/2020\",\"1/30/2020\",\"1/31/2020\",\"2/1/2020\",\"2/2/2020\",\"2/3/2020\",\"2/4/2020\",\"2/5/2020\",\"2/6/2020\",\"2/7/2020\",\"2/8/2020\",\"2/9/2020\",\"2/10/2020\",\"2/11/2020\",\"2/12/2020\",\"2/13/2020\",\"2/14/2020\",\"2/15/2020\",\"2/16/2020\",\"2/17/2020\",\"2/18/2020\",\"2/19/2020\",\"2/20/2020\",\"2/21/2020\",\"2/22/2020\",\"2/23/2020\",\"2/24/2020\",\"2/25/2020\",\"2/26/2020\",\"2/27/2020\",\"2/28/2020\",\"2/29/2020\",\"3/1/2020\",\"3/2/2020\",\"3/3/2020\",\"3/4/2020\",\"3/5/2020\",\"3/6/2020\",\"3/7/2020\",\"3/8/2020\",\"3/9/2020\",\"3/10/2020\",\"3/11/2020\",\"3/12/2020\",\"3/13/2020\",\"3/14/2020\",\"3/15/2020\",\"3/16/2020\",\"3/17/2020\",\"3/18/2020\",\"3/19/2020\",\"3/20/2020\",\"3/21/2020\",\"3/22/2020\",\"3/23/2020\",\"3/24/2020\",\"3/25/2020\",\"3/26/2020\",\"3/27/2020\",\"3/28/2020\",\"3/29/2020\",\"3/30/2020\",\"3/31/2020\",\"4/1/2020\",\"4/2/2020\",\"4/3/2020\",\"4/4/2020\",\"4/5/2020\",\"4/6/2020\",\"4/7/2020\",\"4/8/2020\",\"4/9/2020\",\"4/10/2020\",\"4/11/2020\",\"4/12/2020\",\"4/13/2020\",\"4/14/2020\",\"4/15/2020\",\"4/16/2020\",\"4/17/2020\",\"4/18/2020\",\"4/19/2020\",\"4/20/2020\",\"4/21/2020\",\"4/22/2020\",\"4/23/2020\",\"4/24/2020\",\"4/25/2020\",\"4/26/2020\",\"4/27/2020\",\"4/28/2020\",\"4/29/2020\",\"4/30/2020\",\"5/1/2020\",\"5/2/2020\",\"5/3/2020\",\"5/4/2020\",\"5/5/2020\",\"5/6/2020\",\"5/7/2020\",\"5/8/2020\",\"5/9/2020\",\"5/10/2020\",\"5/11/2020\",\"5/12/2020\",\"5/13/2020\",\"5/14/2020\",\"5/15/2020\",\"5/16/2020\",\"5/17/2020\",\"5/18/2020\",\"5/19/2020\",\"5/20/2020\",\"5/21/2020\",\"5/22/2020\",\"5/23/2020\",\"5/24/2020\",\"5/25/2020\",\"5/26/2020\",\"5/27/2020\",\"5/28/2020\"],\"y\":[\"555\",\"654\",\"941\",\"1434\",\"2118\",\"2927\",\"5578\",\"6166\",\"8234\",\"9927\",\"12038\",\"16787\",\"19881\",\"23892\",\"27635\",\"30794\",\"34391\",\"37120\",\"40150\",\"42762\",\"44802\",\"45221\",\"60368\",\"66885\",\"69030\",\"71224\",\"73258\",\"75136\",\"75639\",\"76197\",\"76819\",\"78572\",\"78958\",\"79561\",\"80406\",\"81388\",\"82746\",\"84112\",\"86011\",\"88369\",\"90306\",\"92840\",\"95120\",\"97888\",\"101806\",\"105848\",\"109822\",\"113595\",\"118623\",\"125879\",\"131007\",\"145225\",\"156120\",\"167507\",\"181653\",\"197150\",\"214873\",\"242632\",\"272264\",\"304580\",\"337022\",\"378301\",\"418295\",\"467817\",\"529722\",\"593764\",\"661174\",\"720291\",\"782816\",\"857608\",\"933010\",\"1013863\",\"1096324\",\"1176436\",\"1249743\",\"1321436\",\"1396438\",\"1480232\",\"1566102\",\"1658261\",\"1736412\",\"1835145\",\"1905165\",\"1975566\",\"2055748\",\"2152181\",\"2239990\",\"2317636\",\"2400787\",\"2472109\",\"2549046\",\"2624608\",\"2708403\",\"2795731\",\"2881140\",\"2955033\",\"3023722\",\"3097229\",\"3172287\",\"3256910\",\"3345558\",\"3427584\",\"3506729\",\"3583055\",\"3662691\",\"3756069\",\"3845718\",\"3938064\",\"4024009\",\"4101699\",\"4177502\",\"4261747\",\"4347018\",\"4442163\",\"4542347\",\"4634068\",\"4713620\",\"4801943\",\"4897492\",\"4996472\",\"5102424\",\"5211156\",\"5311020\",\"5407613\",\"5495061\",\"5589626\",\"5691790\"],\"mode\":\"lines+markers\"}];\n",
       "            var layout = {\"title\":\"Number of Confirmed Cases over Time\",\"shapes\":[{\"xref\":\"x\",\"x0\":\"5/28/2020\",\"x1\":\"5/28/2020\",\"yref\":\"paper\",\"y0\":\"0\",\"y1\":\"1\",\"line\":{\"color\":\"red\",\"width\":2}}]};\n",
       "            Plotly.newPlot('c7f7564c-8b73-4b3a-bd1a-58b798a130cc', data, layout);\n",
       "        \r\n",
       "});\r\n",
       "};\r\n",
       "if ((typeof(requirejs) !==  typeof(Function)) || (typeof(requirejs.config) !== typeof(Function))) { \r\n",
       "    var script = document.createElement(\"script\"); \r\n",
       "    script.setAttribute(\"src\", \"https://cdnjs.cloudflare.com/ajax/libs/require.js/2.3.6/require.min.js\"); \r\n",
       "    script.onload = function(){\r\n",
       "        renderPlotly();\r\n",
       "    };\r\n",
       "    document.getElementsByTagName(\"head\")[0].appendChild(script); \r\n",
       "}\r\n",
       "else {\r\n",
       "    renderPlotly();\r\n",
       "}\r\n",
       "</script>\r\n"
      ]
     },
     "metadata": {},
     "output_type": "display_data"
    }
   ],
   "source": [
    "var title = \"Number of Confirmed Cases over Time\";\n",
    "var layout = new Layout.Layout();\n",
    "layout.shapes = new List<Graph.Shape>\n",
    "{\n",
    "    new Graph.Shape\n",
    "    {\n",
    "        x0 = predictionStartDate.ToShortDateString(),\n",
    "        x1 = predictionStartDate.ToShortDateString(),\n",
    "        y0 = \"0\",\n",
    "        y1 = \"1\",\n",
    "        xref = 'x',\n",
    "        yref = \"paper\",\n",
    "        line = new Graph.Line() {color = \"red\", width = 2}\n",
    "    }\n",
    "};\n",
    "\n",
    "var chart1 = Chart.Plot(\n",
    "new [] \n",
    "    {\n",
    "        new Graph.Scattergl()\n",
    "        {\n",
    "            x = dates.ToArray(),\n",
    "            y = totalConfirmedCases.ToArray(),\n",
    "            mode = \"lines+markers\"\n",
    "        }\n",
    "    },\n",
    "    layout\n",
    ");\n",
    "\n",
    "chart1.WithTitle(title);\n",
    "display(chart1);"
   ]
  },
  {
   "cell_type": "markdown",
   "metadata": {},
   "source": [
    "### 11. Analysis"
   ]
  },
  {
   "cell_type": "markdown",
   "metadata": {},
   "source": [
    "Comparing the plots before and after prediction, it seems our ML model has performed reasonably well. The red line represents the data on future date(5/8/2020). Beyond this, we predicted for 7 days. Looking at the plot, there is a sudden drop on 5/8/2020 which could be accounted due to insufficient data as we have only 107 records. However we see an increasing trend for next 7 days in alignment with previous confirmed cases. We can extend this model for predicting confirmed cases for any number of days by changing HORIZON constant value. This plot is helpful in analysing the increased number of cases and allow authorities to take preventive actions to lower the number."
   ]
  },
  {
   "cell_type": "markdown",
   "metadata": {},
   "source": [
    "## Conclusion"
   ]
  },
  {
   "cell_type": "markdown",
   "metadata": {},
   "source": [
    "I hope you have enjoyed reading the notebook, and might have got some idea on the powerful framework ML.Net. ML.Net is a very fast emerging framework for .Net developers which abstracts lot of complexity present in the field of Data science and Machine Learning. The focus of Part-2 notebook is leverage ML.Net for making predictions using time-series API. The model generated can be saved as a zip file and used in different applications.\n",
    "\n",
    "Feedback/Suggestion are welcome. Please reach out to me through below channels\n",
    "\n",
    "**Contact**\n",
    "\n",
    "**Email    :** praveenraghuvanshi@gmail.com  \n",
    "**LinkedIn :** https://in.linkedin.com/in/praveenraghuvanshi  \n",
    "**Github   :** https://github.com/praveenraghuvanshi1512  \n",
    "**Twitter  :** @praveenraghuvan\n",
    "\n"
   ]
  },
  {
   "cell_type": "markdown",
   "metadata": {},
   "source": [
    "## References\n",
    "- [Tutorial: Forecast bike rental service demand with time series analysis and ML.NET](https://docs.microsoft.com/en-us/dotnet/machine-learning/tutorials/time-series-demand-forecasting#evaluate-the-model)\n",
    "- [Time Series Forecasting in ML.NET and Azure ML notebooks](https://github.com/gvashishtha/time-series-mlnet/blob/master/time-series-forecast.ipynb) by Gopal Vashishtha"
   ]
  },
  {
   "cell_type": "markdown",
   "metadata": {},
   "source": [
    "#  ******************** Be Safe **********************"
   ]
  }
 ],
 "metadata": {
  "kernelspec": {
   "display_name": ".NET (C#)",
   "language": "C#",
   "name": ".net-csharp"
  },
  "language_info": {
   "file_extension": ".cs",
   "mimetype": "text/x-csharp",
   "name": "C#",
   "pygments_lexer": "csharp",
   "version": "8.0"
  },
  "nteract": {
   "version": "0.23.3"
  }
 },
 "nbformat": 4,
 "nbformat_minor": 2
}
